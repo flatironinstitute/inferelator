{
 "cells": [
  {
   "cell_type": "code",
   "execution_count": null,
   "metadata": {},
   "outputs": [],
   "source": [
    "# Load modules\n",
    "from inferelator import inferelator_workflow, inferelator_verbose_level, MPControl, CrossValidationManager\n",
    "\n",
    "# Set verbosity level to \"Normal\"\n",
    "inferelator_verbose_level(0)"
   ]
  },
  {
   "cell_type": "code",
   "execution_count": null,
   "metadata": {},
   "outputs": [],
   "source": [
    "# Set the location of the input data and the desired location of the output files\n",
    "\n",
    "DATA_DIR = '../data/bsubtilis'\n",
    "OUTPUT_DIR = '~/bsubtilis_inference/'\n",
    "\n",
    "EXPRESSION_FILE_NAME = 'expression.tsv.gz'\n",
    "PRIORS_FILE_NAME = 'gold_standard.tsv.gz'\n",
    "GOLD_STANDARD_FILE_NAME = 'gold_standard.tsv.gz'\n",
    "META_DATA_FILE_NAME = 'meta_data.tsv'\n",
    "TF_LIST_FILE_NAME = 'tf_names.tsv'\n",
    "\n",
    "CV_SEEDS = list(range(42, 52))"
   ]
  },
  {
   "cell_type": "code",
   "execution_count": null,
   "metadata": {},
   "outputs": [],
   "source": [
    "# Multiprocessing uses the pathos implementation of multiprocessing (with dill instead of cPickle)\n",
    "# This is suited for a single computer but will not work on a distributed cluster\n",
    "\n",
    "n_cores_local = 10\n",
    "local_engine = True \n",
    "\n",
    "# Multiprocessing needs to be protected with the if __name__ == 'main' pragma\n",
    "if __name__ == '__main__' and local_engine:\n",
    "    MPControl.set_multiprocess_engine(\"multiprocessing\")\n",
    "    MPControl.client.processes = n_cores_local\n",
    "    MPControl.connect()"
   ]
  },
  {
   "cell_type": "code",
   "execution_count": null,
   "metadata": {},
   "outputs": [],
   "source": [
    "# Define the general run parameters\n",
    "# This function will take a workflow and set the file paths\n",
    "# As well as a 5-fold cross validation\n",
    "\n",
    "def set_up_workflow(wkf):\n",
    "    wkf.set_file_paths(input_dir=DATA_DIR,\n",
    "                       output_dir=OUTPUT_DIR,\n",
    "                       tf_names_file=TF_LIST_FILE_NAME,\n",
    "                       meta_data_file=META_DATA_FILE_NAME,\n",
    "                       priors_file=PRIORS_FILE_NAME,\n",
    "                       gold_standard_file=GOLD_STANDARD_FILE_NAME)\n",
    "    wkf.set_expression_file(tsv=EXPRESSION_FILE_NAME)\n",
    "    wkf.set_file_properties(expression_matrix_columns_are_genes=False)\n",
    "    wkf.set_run_parameters(num_bootstraps=5)\n",
    "    wkf.set_crossvalidation_parameters(split_gold_standard_for_crossvalidation=True, cv_split_ratio=0.2)\n",
    "    return wkf"
   ]
  },
  {
   "cell_type": "code",
   "execution_count": null,
   "metadata": {},
   "outputs": [],
   "source": [
    "# Inference with BBSR (crossvalidation)\n",
    "# Using the crossvalidation wrapper\n",
    "# Run the regression 10 times and hold 20% of the gold standard out of the priors for testing each time\n",
    "# Each run is seeded differently (and therefore has different holdouts)\n",
    "\n",
    "# Create a worker\n",
    "worker = inferelator_workflow(regression=\"bbsr\", workflow=\"tfa\")\n",
    "worker = set_up_workflow(worker)\n",
    "worker.append_to_path(\"output_dir\", \"bbsr\")\n",
    "\n",
    "# Create a crossvalidation wrapper\n",
    "cv_wrap = CrossValidationManager(worker)\n",
    "\n",
    "# Assign variables for grid search\n",
    "cv_wrap.add_gridsearch_parameter('random_seed', CV_SEEDS)\n",
    "\n",
    "# Run\n",
    "cv_wrap.run()"
   ]
  },
  {
   "cell_type": "code",
   "execution_count": null,
   "metadata": {},
   "outputs": [],
   "source": [
    "# Inference with Elastic Net (crossvalidation)\n",
    "# Using the crossvalidation wrapper\n",
    "# Run the regression 10 times and hold 20% of the gold standard out of the priors for testing each time\n",
    "# Each run is seeded differently (and therefore has different holdouts)\n",
    "\n",
    "# Create a worker\n",
    "worker = inferelator_workflow(regression=\"elasticnet\", workflow=\"tfa\")\n",
    "worker = set_up_workflow(worker)\n",
    "worker.append_to_path(\"output_dir\", \"elastic_net\")\n",
    "\n",
    "# Set L1 ratio to 1 (This is now LASSO regression instead of Elastic Net)\n",
    "# Parameters set with this function are passed to sklearn.linear_model.ElasticNetCV\n",
    "worker.set_regression_parameters(l1_ratio=1, max_iter=2000)\n",
    "\n",
    "# Create a crossvalidation wrapper\n",
    "cv_wrap = CrossValidationManager(worker)\n",
    "\n",
    "# Assign variables for grid search\n",
    "cv_wrap.add_gridsearch_parameter('random_seed', CV_SEEDS)\n",
    "\n",
    "# Run\n",
    "cv_wrap.run()"
   ]
  },
  {
   "cell_type": "code",
   "execution_count": null,
   "metadata": {},
   "outputs": [],
   "source": [
    "# Final network\n",
    "worker = inferelator_workflow(regression=\"bbsr\", workflow=\"tfa\")\n",
    "worker = set_up_workflow(worker)\n",
    "worker.append_to_path('output_dir', 'final')\n",
    "worker.set_crossvalidation_parameters(split_gold_standard_for_crossvalidation=False, cv_split_ratio=None)\n",
    "worker.set_run_parameters(num_bootstraps=50, random_seed=100)\n",
    "\n",
    "final_network_results = worker.run()"
   ]
  },
  {
   "cell_type": "code",
   "execution_count": null,
   "metadata": {},
   "outputs": [],
   "source": [
    "# Visualize network results\n",
    "# The workflow returns an InferelatorResults object\n",
    "\n",
    "# There is a dataframe with an edge table for the final network\n",
    "final_network_results.network.head()"
   ]
  },
  {
   "cell_type": "code",
   "execution_count": null,
   "metadata": {},
   "outputs": [],
   "source": [
    "# There is a list of dataframes with model coeffcients\n",
    "# Each list element is a dataframe with the results from one bootstrap\n",
    "# The dataframes are genes x TFs\n",
    "\n",
    "final_network_results.betas[0].iloc[0:5, 0:5]"
   ]
  },
  {
   "cell_type": "code",
   "execution_count": null,
   "metadata": {},
   "outputs": [],
   "source": [
    "# The confidence scores for each network edge are also accessible\n",
    "# This dataframe is genes x TFs\n",
    "\n",
    "final_network_results.combined_confidences.iloc[0:5, 0:5]"
   ]
  }
 ],
 "metadata": {
  "kernelspec": {
   "display_name": "Python 3",
   "language": "python",
   "name": "python3"
  },
  "language_info": {
   "codemirror_mode": {
    "name": "ipython",
    "version": 3
   },
   "file_extension": ".py",
   "mimetype": "text/x-python",
   "name": "python",
   "nbconvert_exporter": "python",
   "pygments_lexer": "ipython3",
   "version": "3.7.10"
  }
 },
 "nbformat": 4,
 "nbformat_minor": 2
}
